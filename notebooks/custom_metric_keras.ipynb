{
 "cells": [
  {
   "cell_type": "markdown",
   "id": "f1dee517",
   "metadata": {},
   "source": [
    "# Custom metrics with `Keras`\n",
    "In this notebook, we implement a `CustomPrecision`  metric by subclassing the base `Metric` class in `keras`.\n",
    "\n",
    "`keras` has a `keras.metrics.Precision` class, which we will use to check our results.\n"
   ]
  },
  {
   "cell_type": "code",
   "execution_count": 1,
   "id": "8ffa18a0",
   "metadata": {},
   "outputs": [
    {
     "name": "stderr",
     "output_type": "stream",
     "text": [
      "2025-05-12 09:50:17.177802: I tensorflow/core/util/port.cc:153] oneDNN custom operations are on. You may see slightly different numerical results due to floating-point round-off errors from different computation orders. To turn them off, set the environment variable `TF_ENABLE_ONEDNN_OPTS=0`.\n",
      "2025-05-12 09:50:17.185614: E external/local_xla/xla/stream_executor/cuda/cuda_fft.cc:467] Unable to register cuFFT factory: Attempting to register factory for plugin cuFFT when one has already been registered\n",
      "WARNING: All log messages before absl::InitializeLog() is called are written to STDERR\n",
      "E0000 00:00:1747057817.194325  168378 cuda_dnn.cc:8579] Unable to register cuDNN factory: Attempting to register factory for plugin cuDNN when one has already been registered\n",
      "E0000 00:00:1747057817.196884  168378 cuda_blas.cc:1407] Unable to register cuBLAS factory: Attempting to register factory for plugin cuBLAS when one has already been registered\n",
      "W0000 00:00:1747057817.203752  168378 computation_placer.cc:177] computation placer already registered. Please check linkage and avoid linking the same target more than once.\n",
      "W0000 00:00:1747057817.203760  168378 computation_placer.cc:177] computation placer already registered. Please check linkage and avoid linking the same target more than once.\n",
      "W0000 00:00:1747057817.203761  168378 computation_placer.cc:177] computation placer already registered. Please check linkage and avoid linking the same target more than once.\n",
      "W0000 00:00:1747057817.203761  168378 computation_placer.cc:177] computation placer already registered. Please check linkage and avoid linking the same target more than once.\n",
      "2025-05-12 09:50:17.206134: I tensorflow/core/platform/cpu_feature_guard.cc:210] This TensorFlow binary is optimized to use available CPU instructions in performance-critical operations.\n",
      "To enable the following instructions: AVX2 AVX_VNNI FMA, in other operations, rebuild TensorFlow with the appropriate compiler flags.\n"
     ]
    }
   ],
   "source": [
    "import keras\n",
    "from keras.metrics import Metric\n",
    "import tensorflow as tf\n",
    "import numpy as np"
   ]
  },
  {
   "cell_type": "markdown",
   "id": "237b4510",
   "metadata": {},
   "source": [
    "## Define custom metric classes"
   ]
  },
  {
   "cell_type": "code",
   "execution_count": 2,
   "id": "664a83d3",
   "metadata": {},
   "outputs": [
    {
     "name": "stderr",
     "output_type": "stream",
     "text": [
      "2025-05-12 09:50:19.283558: E external/local_xla/xla/stream_executor/cuda/cuda_platform.cc:51] failed call to cuInit: INTERNAL: CUDA error: Failed call to cuInit: CUDA_ERROR_UNKNOWN: unknown error\n",
      "2025-05-12 09:50:19.283570: I external/local_xla/xla/stream_executor/cuda/cuda_diagnostics.cc:178] verbose logging is disabled. Rerun with verbose logging (usually --v=1 or --vmodule=cuda_diagnostics=1) to get more diagnostic output from this module\n",
      "2025-05-12 09:50:19.283573: I external/local_xla/xla/stream_executor/cuda/cuda_diagnostics.cc:183] retrieving CUDA diagnostic information for host: PC-Linux-Mint\n",
      "2025-05-12 09:50:19.283574: I external/local_xla/xla/stream_executor/cuda/cuda_diagnostics.cc:190] hostname: PC-Linux-Mint\n",
      "2025-05-12 09:50:19.283617: I external/local_xla/xla/stream_executor/cuda/cuda_diagnostics.cc:197] libcuda reported version is: 550.163.1\n",
      "2025-05-12 09:50:19.283623: I external/local_xla/xla/stream_executor/cuda/cuda_diagnostics.cc:201] kernel reported version is: 550.163.1\n",
      "2025-05-12 09:50:19.283624: I external/local_xla/xla/stream_executor/cuda/cuda_diagnostics.cc:291] kernel version seems to match DSO: 550.163.1\n"
     ]
    },
    {
     "data": {
      "text/plain": [
       "<tf.Tensor: shape=(), dtype=float32, numpy=6.0>"
      ]
     },
     "execution_count": 2,
     "metadata": {},
     "output_type": "execute_result"
    }
   ],
   "source": [
    "# Test some code\n",
    "m = Metric()\n",
    "\n",
    "l = m.add_weight(initializer=\"zeros\")\n",
    "l.assign_add(1)\n",
    "l.assign_add(5)"
   ]
  },
  {
   "cell_type": "markdown",
   "id": "073396e9",
   "metadata": {},
   "source": [
    "For custom metrics, the key method is `update_state`, which expects `y_true` and `y_pred` as its inputs.\n",
    "\n",
    "It's important to verify that these two inputs have the right shape.  If not (for example, if y)"
   ]
  },
  {
   "cell_type": "code",
   "execution_count": 3,
   "id": "61a93233",
   "metadata": {},
   "outputs": [],
   "source": [
    "# from keras.src.metrics.metrics_utils import squeeze_or_expand_to_same_rank\n",
    "\n",
    "class CustomPrecision(keras.metrics.Metric):\n",
    "    def __init__(self, name=\"custom_precision\", **kwargs):\n",
    "        super().__init__(name=name, **kwargs)\n",
    "        self.pred_pos = self.add_variable(shape=(), initializer=\"zeros\")\n",
    "        self.tp = self.add_variable(shape=(), initializer=\"zeros\")\n",
    "    \n",
    "    def update_state(self, y_true, y_pred, sample_weight=None):\n",
    "        # Print the shape to debug if necessary\n",
    "        # print(\"y_pred shape\", y_pred.shape)\n",
    "        # print(\"y_true shape\", y_true.shape)\n",
    "        # y_pred, y_true = squeeze_or_expand_to_same_rank(y_pred, y_true)\n",
    "\n",
    "        # Convert logits or probabilities to binary predictions if needed\n",
    "        y_pred = tf.cast(y_pred > 0.5, tf.int32)\n",
    "\n",
    "        # update pred_pos and true_pos, assuming pos = 1, neg = 0\n",
    "        self.pred_pos.assign_add(tf.reduce_sum(y_pred))\n",
    "        self.tp.assign_add(\n",
    "            tf.reduce_sum(\n",
    "                tf.cast((y_pred == 1) & (y_true == 1), tf.int32) # must cast to int because tf.reduce_sum doesn't take boolean tensors as inputs\n",
    "                )\n",
    "            )\n",
    "    \n",
    "    def result(self):\n",
    "        return tf.cast(\n",
    "            tf.math.divide_no_nan(self.tp, self.pred_pos), tf.float32)\n",
    "\n",
    "    # def reset_states(self):\n",
    "    #     self.pred_pos.assign(0.0)\n",
    "    #     self.tp.assign(0.0)"
   ]
  },
  {
   "cell_type": "markdown",
   "id": "057634f1",
   "metadata": {},
   "source": [
    "### Test custom precision with simple input"
   ]
  },
  {
   "cell_type": "code",
   "execution_count": 4,
   "id": "05036b92",
   "metadata": {},
   "outputs": [],
   "source": [
    "vals = [0, 1]\n",
    "seed = 17\n",
    "rng = np.random.default_rng(seed=seed)\n",
    "test_true = rng.choice(vals, size = 5000)\n",
    "test_pred = rng.choice(vals, size = 5000)"
   ]
  },
  {
   "cell_type": "code",
   "execution_count": 5,
   "id": "b2fc8c80",
   "metadata": {},
   "outputs": [
    {
     "data": {
      "text/plain": [
       "<tf.Tensor: shape=(), dtype=float32, numpy=0.5076121687889099>"
      ]
     },
     "execution_count": 5,
     "metadata": {},
     "output_type": "execute_result"
    }
   ],
   "source": [
    "cp = CustomPrecision(name=\"test\")\n",
    "cp.update_state(test_true, test_pred)\n",
    "cp.result()"
   ]
  },
  {
   "cell_type": "code",
   "execution_count": 6,
   "id": "09c29cdd",
   "metadata": {},
   "outputs": [
    {
     "data": {
      "text/plain": [
       "<tf.Tensor: shape=(), dtype=float32, numpy=0.5076121687889099>"
      ]
     },
     "execution_count": 6,
     "metadata": {},
     "output_type": "execute_result"
    }
   ],
   "source": [
    "rp = keras.metrics.Precision(name=\"real_precision\")\n",
    "rp.update_state(test_true, test_pred)\n",
    "rp.result()"
   ]
  },
  {
   "cell_type": "code",
   "execution_count": 7,
   "id": "9e77cb10",
   "metadata": {},
   "outputs": [],
   "source": [
    "test_true2 = rng.choice(vals, size = 5000)\n",
    "test_pred2 = rng.choice(vals, size = 5000)\n"
   ]
  },
  {
   "cell_type": "code",
   "execution_count": 8,
   "id": "42e801ba",
   "metadata": {},
   "outputs": [],
   "source": [
    "cp.update_state(test_true2, test_pred2)\n",
    "rp.update_state(test_true2, test_pred2)"
   ]
  },
  {
   "cell_type": "code",
   "execution_count": 9,
   "id": "df605b4d",
   "metadata": {},
   "outputs": [
    {
     "data": {
      "text/plain": [
       "<tf.Tensor: shape=(), dtype=float32, numpy=0.49677419662475586>"
      ]
     },
     "execution_count": 9,
     "metadata": {},
     "output_type": "execute_result"
    }
   ],
   "source": [
    "cp.result()"
   ]
  },
  {
   "cell_type": "code",
   "execution_count": 10,
   "id": "67b6c2f2",
   "metadata": {},
   "outputs": [
    {
     "data": {
      "text/plain": [
       "<tf.Tensor: shape=(), dtype=float32, numpy=0.49677419662475586>"
      ]
     },
     "execution_count": 10,
     "metadata": {},
     "output_type": "execute_result"
    }
   ],
   "source": [
    "rp.result()"
   ]
  },
  {
   "cell_type": "markdown",
   "id": "ae28d9ff",
   "metadata": {},
   "source": [
    "## Test with simple classification model"
   ]
  },
  {
   "cell_type": "markdown",
   "id": "a4247eb3",
   "metadata": {},
   "source": [
    "We will use the MNIST dataset.  To perform a binary classification, we will classify whether a handwritten digit is greater or equal to 5."
   ]
  },
  {
   "cell_type": "code",
   "execution_count": 11,
   "id": "9d435899",
   "metadata": {},
   "outputs": [],
   "source": [
    "# Load data\n",
    "(X_train, y_train), (X_test, y_test) = keras.datasets.mnist.load_data()\n",
    "\n",
    "# Reclassify the labels by greater or equal to 5\n",
    "y_train = np.where(y_train >= 5, 1, 0)\n",
    "y_test = np.where(y_test >=5, 1, 0)\n",
    "\n",
    "# Standardize and convert to float\n",
    "X_train = X_train / 255.\n",
    "X_test = X_test / 255.\n",
    "\n",
    "# Reshape X input\n",
    "X_train = X_train.reshape(-1, 28*28)\n",
    "X_test = X_test.reshape(-1, 28*28)\n",
    "\n",
    "# Reshape y <--- This is an important step to make sure y_pred and y_true have compatible shapes when calculating custom metric\n",
    "y_train = y_train.reshape(-1,1)\n",
    "y_test = y_test.reshape(-1,1)\n"
   ]
  },
  {
   "cell_type": "code",
   "execution_count": 12,
   "id": "1359492e",
   "metadata": {},
   "outputs": [
    {
     "name": "stderr",
     "output_type": "stream",
     "text": [
      "/media/hieuluu/MAIN_DATA/deeplearning/venv-deeplearning/lib/python3.12/site-packages/keras/src/layers/core/dense.py:87: UserWarning: Do not pass an `input_shape`/`input_dim` argument to a layer. When using Sequential models, prefer using an `Input(shape)` object as the first layer in the model instead.\n",
      "  super().__init__(activity_regularizer=activity_regularizer, **kwargs)\n"
     ]
    }
   ],
   "source": [
    "nn = keras.models.Sequential([\n",
    "    keras.layers.Dense(300, activation=\"relu\", input_shape=(784,)),\n",
    "    keras.layers.Dense(100, activation=\"relu\"),\n",
    "    keras.layers.Dense(1, activation=\"sigmoid\")\n",
    "])"
   ]
  },
  {
   "cell_type": "code",
   "execution_count": 13,
   "id": "016a78fe",
   "metadata": {},
   "outputs": [],
   "source": [
    "nn.compile(\n",
    "    loss=\"binary_crossentropy\",\n",
    "    optimizer=\"sgd\",\n",
    "    metrics=[CustomPrecision(), keras.metrics.Precision()])"
   ]
  },
  {
   "cell_type": "markdown",
   "id": "44f70a45",
   "metadata": {},
   "source": [
    "I find that setting verbose=2 gives more reliable training metrics than verbose=auto.  In particular, the training metrics that are printed on the screen would be consistent with those that are saved into `history`."
   ]
  },
  {
   "cell_type": "code",
   "execution_count": 14,
   "id": "8f9167ae",
   "metadata": {},
   "outputs": [
    {
     "name": "stdout",
     "output_type": "stream",
     "text": [
      "Epoch 1/5\n",
      "1500/1500 - 3s - 2ms/step - custom_precision: 0.8390 - loss: 0.3545 - precision: 0.8390 - val_custom_precision: 0.9254 - val_loss: 0.2022 - val_precision: 0.9254\n",
      "Epoch 2/5\n",
      "1500/1500 - 3s - 2ms/step - custom_precision: 0.9375 - loss: 0.1683 - precision: 0.9375 - val_custom_precision: 0.9565 - val_loss: 0.1291 - val_precision: 0.9565\n",
      "Epoch 3/5\n",
      "1500/1500 - 3s - 2ms/step - custom_precision: 0.9563 - loss: 0.1212 - precision: 0.9563 - val_custom_precision: 0.9691 - val_loss: 0.1055 - val_precision: 0.9691\n",
      "Epoch 4/5\n",
      "1500/1500 - 2s - 2ms/step - custom_precision: 0.9641 - loss: 0.1000 - precision: 0.9641 - val_custom_precision: 0.9739 - val_loss: 0.0980 - val_precision: 0.9739\n",
      "Epoch 5/5\n",
      "1500/1500 - 3s - 2ms/step - custom_precision: 0.9686 - loss: 0.0859 - precision: 0.9686 - val_custom_precision: 0.9736 - val_loss: 0.0865 - val_precision: 0.9736\n"
     ]
    }
   ],
   "source": [
    "history = nn.fit(\n",
    "    X_train, y_train,\n",
    "    epochs=5,\n",
    "    validation_split=0.2,\n",
    "    verbose=2)"
   ]
  },
  {
   "cell_type": "markdown",
   "id": "3de1634c",
   "metadata": {},
   "source": [
    "We see that our `custom_precision` metric is exactly the same as the default `precision` metric in `keras`."
   ]
  }
 ],
 "metadata": {
  "kernelspec": {
   "display_name": "venv-deeplearning",
   "language": "python",
   "name": "python3"
  },
  "language_info": {
   "codemirror_mode": {
    "name": "ipython",
    "version": 3
   },
   "file_extension": ".py",
   "mimetype": "text/x-python",
   "name": "python",
   "nbconvert_exporter": "python",
   "pygments_lexer": "ipython3",
   "version": "3.12.3"
  }
 },
 "nbformat": 4,
 "nbformat_minor": 5
}
