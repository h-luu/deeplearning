{
 "cells": [
  {
   "cell_type": "markdown",
   "id": "f86615dc",
   "metadata": {},
   "source": [
    "# Classification MNIST\n",
    "\n",
    "In this notebook, we will compare the performance of a few classification algorithms, using the popular MNIST dataset.  We will look at:\n",
    "- Logistic regression\n",
    "- Support vector machine\n",
    "- Neural network"
   ]
  },
  {
   "cell_type": "code",
   "execution_count": 1,
   "id": "960c3337",
   "metadata": {},
   "outputs": [],
   "source": [
    "import pandas as pd\n",
    "import numpy as np\n",
    "import matplotlib.pyplot as plt"
   ]
  },
  {
   "cell_type": "code",
   "execution_count": 2,
   "id": "accda225",
   "metadata": {},
   "outputs": [],
   "source": [
    "from sklearn.datasets import fetch_openml\n",
    "mnist = fetch_openml('mnist_784', version=1)\n"
   ]
  },
  {
   "cell_type": "code",
   "execution_count": 3,
   "id": "1b110118",
   "metadata": {},
   "outputs": [],
   "source": [
    "X, y = mnist[\"data\"], mnist[\"target\"]"
   ]
  },
  {
   "cell_type": "code",
   "execution_count": 4,
   "id": "0a1c65b4",
   "metadata": {},
   "outputs": [],
   "source": [
    "y = pd.to_numeric(y)"
   ]
  },
  {
   "cell_type": "code",
   "execution_count": 5,
   "id": "4f7a867a",
   "metadata": {},
   "outputs": [
    {
     "data": {
      "text/plain": [
       "<matplotlib.image.AxesImage at 0x784b795b9e50>"
      ]
     },
     "execution_count": 5,
     "metadata": {},
     "output_type": "execute_result"
    },
    {
     "data": {
      "image/png": "[encoded data removed]",
      "text/plain": [
       "<Figure size 640x480 with 1 Axes>"
      ]
     },
     "metadata": {},
     "output_type": "display_data"
    }
   ],
   "source": [
    "plt.imshow(X.iloc[0].values.reshape(28,28), cmap=\"binary\")"
   ]
  },
  {
   "cell_type": "code",
   "execution_count": 6,
   "id": "30b1873d",
   "metadata": {},
   "outputs": [],
   "source": [
    "X_train, X_test, y_train, y_test = X[:60000], X[60000:], y[:60000], y[60000:]"
   ]
  },
  {
   "cell_type": "markdown",
   "id": "e0fd1481",
   "metadata": {},
   "source": [
    "## Logistic regression"
   ]
  },
  {
   "cell_type": "code",
   "execution_count": 7,
   "id": "ef00aea3",
   "metadata": {},
   "outputs": [],
   "source": [
    "from sklearn.linear_model import SGDClassifier\n",
    "\n",
    "logit = SGDClassifier(loss='log_loss', random_state=42)\n",
    "logit.fit(X_train, y_train)\n",
    "y_train_pred_logit = logit.predict(X_train)"
   ]
  },
  {
   "cell_type": "code",
   "execution_count": 8,
   "id": "515ea995",
   "metadata": {},
   "outputs": [
    {
     "name": "stdout",
     "output_type": "stream",
     "text": [
      "              precision    recall  f1-score   support\n",
      "\n",
      "           0       0.90      0.99      0.94      5923\n",
      "           1       0.90      0.99      0.94      6742\n",
      "           2       0.90      0.90      0.90      5958\n",
      "           3       0.88      0.83      0.86      6131\n",
      "           4       0.94      0.89      0.92      5842\n",
      "           5       0.96      0.71      0.82      5421\n",
      "           6       0.93      0.96      0.95      5918\n",
      "           7       0.88      0.95      0.91      6265\n",
      "           8       0.81      0.84      0.82      5851\n",
      "           9       0.86      0.86      0.86      5949\n",
      "\n",
      "    accuracy                           0.89     60000\n",
      "   macro avg       0.90      0.89      0.89     60000\n",
      "weighted avg       0.90      0.89      0.89     60000\n",
      "\n"
     ]
    }
   ],
   "source": [
    "from sklearn.metrics import classification_report, confusion_matrix\n",
    "\n",
    "print(classification_report(y_train, y_train_pred_logit))\n",
    "conf_mx_logit = confusion_matrix(y_train, y_train_pred_logit)"
   ]
  },
  {
   "cell_type": "code",
   "execution_count": 9,
   "id": "de71e269",
   "metadata": {},
   "outputs": [
    {
     "data": {
      "text/plain": [
       "<matplotlib.image.AxesImage at 0x784ae271be60>"
      ]
     },
     "execution_count": 9,
     "metadata": {},
     "output_type": "execute_result"
    },
    {
     "data": {
      "image/png": "[encoded data removed]",
      "text/plain": [
       "<Figure size 480x480 with 1 Axes>"
      ]
     },
     "metadata": {},
     "output_type": "display_data"
    }
   ],
   "source": [
    "plt.matshow(conf_mx_logit, cmap=plt.cm.gray)"
   ]
  },
  {
   "cell_type": "code",
   "execution_count": 10,
   "id": "8c2e1d9c",
   "metadata": {},
   "outputs": [
    {
     "data": {
      "text/plain": [
       "<matplotlib.image.AxesImage at 0x784ae271b8f0>"
      ]
     },
     "execution_count": 10,
     "metadata": {},
     "output_type": "execute_result"
    },
    {
     "data": {
      "image/png": "[encoded data removed]",
      "text/plain": [
       "<Figure size 480x480 with 1 Axes>"
      ]
     },
     "metadata": {},
     "output_type": "display_data"
    }
   ],
   "source": [
    "row_sums = conf_mx_logit.sum(axis=1, keepdims=True)  # count of true values for each digit\n",
    "conf_mx_norm_logit = conf_mx_logit / row_sums\n",
    "np.fill_diagonal(conf_mx_norm_logit, 0)\n",
    "plt.matshow(conf_mx_norm_logit, cmap=plt.cm.gray)"
   ]
  },
  {
   "cell_type": "markdown",
   "id": "d9948a39",
   "metadata": {},
   "source": [
    "## Support Vector Machine"
   ]
  },
  {
   "cell_type": "code",
   "execution_count": 11,
   "id": "726f890c",
   "metadata": {},
   "outputs": [],
   "source": [
    "svm = SGDClassifier()\n",
    "svm.fit(X_train, y_train)\n",
    "y_train_pred_svm = svm.predict(X_train)"
   ]
  },
  {
   "cell_type": "code",
   "execution_count": 12,
   "id": "785a65b8",
   "metadata": {},
   "outputs": [
    {
     "name": "stdout",
     "output_type": "stream",
     "text": [
      "              precision    recall  f1-score   support\n",
      "\n",
      "           0       0.98      0.94      0.96      5923\n",
      "           1       0.98      0.95      0.97      6742\n",
      "           2       0.94      0.79      0.86      5958\n",
      "           3       0.82      0.87      0.84      6131\n",
      "           4       0.96      0.82      0.88      5842\n",
      "           5       0.82      0.87      0.84      5421\n",
      "           6       0.91      0.96      0.93      5918\n",
      "           7       0.95      0.89      0.92      6265\n",
      "           8       0.66      0.91      0.77      5851\n",
      "           9       0.87      0.81      0.84      5949\n",
      "\n",
      "    accuracy                           0.88     60000\n",
      "   macro avg       0.89      0.88      0.88     60000\n",
      "weighted avg       0.89      0.88      0.88     60000\n",
      "\n"
     ]
    }
   ],
   "source": [
    "print(classification_report(y_train, y_train_pred_svm))\n",
    "conf_mx_svm = confusion_matrix(y_train, y_train_pred_svm)"
   ]
  },
  {
   "cell_type": "code",
   "execution_count": 13,
   "id": "9cb51598",
   "metadata": {},
   "outputs": [
    {
     "data": {
      "text/plain": [
       "<matplotlib.image.AxesImage at 0x784ae23cbce0>"
      ]
     },
     "execution_count": 13,
     "metadata": {},
     "output_type": "execute_result"
    },
    {
     "data": {
      "image/png": "[encoded data removed]",
      "text/plain": [
       "<Figure size 480x480 with 1 Axes>"
      ]
     },
     "metadata": {},
     "output_type": "display_data"
    }
   ],
   "source": [
    "plt.matshow(conf_mx_svm, cmap=plt.cm.gray)"
   ]
  },
  {
   "cell_type": "code",
   "execution_count": 14,
   "id": "4425900d",
   "metadata": {},
   "outputs": [
    {
     "data": {
      "text/plain": [
       "<matplotlib.image.AxesImage at 0x784ae2450bf0>"
      ]
     },
     "execution_count": 14,
     "metadata": {},
     "output_type": "execute_result"
    },
    {
     "data": {
      "image/png": "[encoded data removed]",
      "text/plain": [
       "<Figure size 480x480 with 1 Axes>"
      ]
     },
     "metadata": {},
     "output_type": "display_data"
    }
   ],
   "source": [
    "conf_mx_norm_logit = conf_mx_logit / row_sums\n",
    "np.fill_diagonal(conf_mx_norm_logit, 0)\n",
    "plt.matshow(conf_mx_norm_logit, cmap=plt.cm.gray)"
   ]
  }
 ],
 "metadata": {
  "kernelspec": {
   "display_name": "venv-deeplearning",
   "language": "python",
   "name": "python3"
  },
  "language_info": {
   "codemirror_mode": {
    "name": "ipython",
    "version": 3
   },
   "file_extension": ".py",
   "mimetype": "text/x-python",
   "name": "python",
   "nbconvert_exporter": "python",
   "pygments_lexer": "ipython3",
   "version": "3.12.3"
  }
 },
 "nbformat": 4,
 "nbformat_minor": 5
}
